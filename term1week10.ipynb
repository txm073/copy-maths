{
 "cells": [
  {
   "cell_type": "code",
   "execution_count": 1,
   "metadata": {},
   "outputs": [
    {
     "name": "stdout",
     "output_type": "stream",
     "text": [
      "Autograder loaded successfully!\n",
      "Remember to always restart and run all from the Kernel menu before submitting!\n"
     ]
    }
   ],
   "source": [
    "from autograder_term1week10 import *\n",
    "_globals = globals()"
   ]
  },
  {
   "cell_type": "markdown",
   "metadata": {
    "deletable": false,
    "editable": false,
    "nbgrader": {
     "cell_type": "markdown",
     "checksum": "08ac373c80a0e48147d1f5fb3b83615c",
     "grade": false,
     "grade_id": "cell-21cb00ee9730bb45",
     "locked": true,
     "schema_version": 3,
     "solution": false
    }
   },
   "source": [
    "# <center> Introduction to Mathematical Computing </center>\n",
    "### <center>Phil Ramsden, Boumediene Hamzi, Sam Brzezicki</center>\n",
    "\n",
    "# <center> Worksheet 6: More About Functions</center>\n",
    "\n",
    "**NOTE:** When answering a question, remember to remove the `raise NotImplementedError()` line.\n",
    "\n",
    "Don't forget: online Python documentation is at <a href='https://docs.python.org'>docs.python.org</a> and <a href='https://www.w3schools.com/python/'>www.w3schools.com/python/</a>."
   ]
  },
  {
   "cell_type": "markdown",
   "metadata": {
    "deletable": false,
    "editable": false,
    "nbgrader": {
     "cell_type": "markdown",
     "checksum": "8782800561cd003b935d46d7fc2176c3",
     "grade": false,
     "grade_id": "cell-91a340b279326c4c",
     "locked": true,
     "schema_version": 3,
     "solution": false
    }
   },
   "source": [
    "## Question 1\n",
    "\n",
    "For a planet or comet, the <b>mean anomaly</b>, $M$, is the time since the closest approach to the Sun, divided by the length of the year, multiplied by $2\\pi$ (so for example if one-quarter of the year has gone by, $M=\\pi/2$). The <b>eccentric anomaly</b>, $E$, is a quantity we use to locate the planet or comet on its orbit. \n",
    "    \n",
    "<b>Kepler's Equation</b> links the two. If the <b>orbital eccentricity</b> is $e$, then Kepler's Equation is\n",
    "$$M=E-e\\,\\sin E.$$\n",
    "\n",
    "(a) For a comet, the eccentricity $e$ can be quite large. Setting $e=0.95$ and $M=\\pi/2$, estimate the value of $E$ by iterating the function\n",
    "$$M+e\\,\\sin E$$\n",
    "10 times, starting from the value $E=M$, and <em>making sure to use a lambda-expression</em>.\n",
    "\n",
    "The function `nestlist` from the notes will be useful, and is supplied. Call your list of 11 iterates `Elist1`."
   ]
  },
  {
   "cell_type": "code",
   "execution_count": 2,
   "metadata": {
    "deletable": false,
    "nbgrader": {
     "cell_type": "code",
     "checksum": "f05d4aab777b6bf45a094130a3b672a4",
     "grade": false,
     "grade_id": "cell-f80e92e0900ca624",
     "locked": false,
     "schema_version": 3,
     "solution": true
    }
   },
   "outputs": [
    {
     "name": "stdout",
     "output_type": "stream",
     "text": [
      "[1.5707963267948966, 2.5207963267948967, 2.1233952617855856, 2.379401380369645, 2.2267790252052713, 2.3236228059783635, 2.264067672197098, 2.301497907757926, 2.2782673649466303, 2.292803843066782, 2.283752791950874]\n"
     ]
    }
   ],
   "source": [
    "from math import pi, sin, cos\n",
    "\n",
    "def nestlist(f, x0, n):\n",
    "    \"Returns iterates of x = f(x), x0, x1, ... xn\"\n",
    "    \n",
    "    x = x0\n",
    "    xlist = [x0]\n",
    "    \n",
    "    # for loop\n",
    "    for r in range(n):\n",
    "        x = f(x)\n",
    "        xlist.append(x)\n",
    "    \n",
    "    return xlist\n",
    "\n",
    "M, e = pi/2, 0.95\n",
    "Elist1 = nestlist(lambda E: M + e*sin(E), M, 10)  # fill in your code here\n",
    "print(Elist1)"
   ]
  },
  {
   "cell_type": "code",
   "execution_count": 3,
   "metadata": {
    "deletable": false,
    "editable": false,
    "nbgrader": {
     "cell_type": "code",
     "checksum": "ffcc61846c4b42241a418c2a8aeddf6f",
     "grade": true,
     "grade_id": "cell-53518b4701ec028d",
     "locked": true,
     "points": 1,
     "schema_version": 3,
     "solution": false
    }
   },
   "outputs": [
    {
     "name": "stdout",
     "output_type": "stream",
     "text": [
      "Test passed!\n"
     ]
    },
    {
     "data": {
      "text/plain": [
       "1"
      ]
     },
     "execution_count": 3,
     "metadata": {},
     "output_type": "execute_result"
    }
   ],
   "source": [
    "# 1 Mark\n",
    "# Do not try to delete this cell\n",
    "# Run this cell for grading\n",
    "_globals = globals()\n",
    "question1a(_globals)"
   ]
  },
  {
   "cell_type": "markdown",
   "metadata": {
    "deletable": false,
    "editable": false,
    "nbgrader": {
     "cell_type": "markdown",
     "checksum": "dd9a51527fdbabf5a2e868e5794cc459",
     "grade": false,
     "grade_id": "cell-2aeedec375c28434",
     "locked": true,
     "schema_version": 3,
     "solution": false
    }
   },
   "source": [
    "(b) Estimate the mean anomaly again, but this time by instead iterating\n",
    "$$\\frac{M+e\\,\\sin E + E}{2}$$\n",
    "10 times. Use the same eccentricity, $e=0.95$, the same mean anomaly, $M=\\pi/2$ and the same starting value, $E=M$. Once more, use a lambda-expression in your call to `nestlist`. This time, call the list of 11 iterates `Elist2`."
   ]
  },
  {
   "cell_type": "code",
   "execution_count": 4,
   "metadata": {
    "deletable": false,
    "nbgrader": {
     "cell_type": "code",
     "checksum": "f3d0153fa9ed6efd08b79c6d035762a9",
     "grade": false,
     "grade_id": "cell-f976fa3495d05ab2",
     "locked": false,
     "schema_version": 3,
     "solution": true
    }
   },
   "outputs": [
    {
     "name": "stdout",
     "output_type": "stream",
     "text": [
      "[1.5707963267948966, 2.0457963267948966, 2.2307103695659016, 2.2760246901225174, 2.285105692211478, 2.286835289752431, 2.2871613522757923, 2.28722270121186, 2.2872342398078462, 2.287236409852908, 2.2872368179644407]\n"
     ]
    }
   ],
   "source": [
    "M, e = pi/2, 0.95\n",
    "# YOUR CODE HERE\n",
    "Elist2 = nestlist(lambda E: 1/2*(M+e*sin(E)+E), M, 10)\n",
    "print(Elist2)"
   ]
  },
  {
   "cell_type": "code",
   "execution_count": 5,
   "metadata": {
    "deletable": false,
    "editable": false,
    "nbgrader": {
     "cell_type": "code",
     "checksum": "757a99c6e2ce3ad56c13e7585323aadc",
     "grade": true,
     "grade_id": "cell-6b2f0edf42d38cab",
     "locked": true,
     "points": 1,
     "schema_version": 3,
     "solution": false,
     "task": false
    }
   },
   "outputs": [
    {
     "name": "stdout",
     "output_type": "stream",
     "text": [
      "Test passed!\n"
     ]
    },
    {
     "data": {
      "text/plain": [
       "1"
      ]
     },
     "execution_count": 5,
     "metadata": {},
     "output_type": "execute_result"
    }
   ],
   "source": [
    "# 1 Mark\n",
    "# Do not try to delete this cell\n",
    "# Run this cell for grading\n",
    "_globals = globals()\n",
    "question1b(_globals)"
   ]
  },
  {
   "cell_type": "markdown",
   "metadata": {
    "deletable": false,
    "editable": false,
    "nbgrader": {
     "cell_type": "markdown",
     "checksum": "52581f7bc5586c0d6379ee0c359a9700",
     "grade": false,
     "grade_id": "cell-06d6a82d4903ba7a",
     "locked": true,
     "schema_version": 3,
     "solution": false
    }
   },
   "source": [
    "(c) Estimate the mean anomaly a third time, but this time by instead iterating\n",
    "$$\\frac{M+e\\,\\sin E - E\\,e\\,\\cos E}{1- e\\,\\cos E}$$\n",
    "10 times. Use the same eccentricity, $e=0.95$, the same mean anomaly, $M=\\pi/2$ and the same starting value, $E=M$. Once more, use a lambda-expression in your call to `nestlist`. This time, call the list of 11 iterates `Elist3`."
   ]
  },
  {
   "cell_type": "code",
   "execution_count": 6,
   "metadata": {
    "deletable": false,
    "nbgrader": {
     "cell_type": "code",
     "checksum": "b121f544961a83ed9a5eeb3fc94a3be8",
     "grade": false,
     "grade_id": "cell-014d16016afd87ab",
     "locked": false,
     "schema_version": 3,
     "solution": true
    }
   },
   "outputs": [
    {
     "name": "stdout",
     "output_type": "stream",
     "text": [
      "[1.5707963267948966, 2.520796326794897, 2.296623574573425, 2.287256163407903, 2.287236912575581, 2.28723691249383, 2.28723691249383, 2.28723691249383, 2.28723691249383, 2.28723691249383, 2.28723691249383]\n"
     ]
    }
   ],
   "source": [
    "M, e = pi/2, 0.95\n",
    "# YOUR CODE HERE\n",
    "Elist3 = nestlist(lambda E: (M+e*sin(E)-E*e*cos(E))/(1-e*cos(E)), M, 10)\n",
    "print(Elist3)"
   ]
  },
  {
   "cell_type": "code",
   "execution_count": 7,
   "metadata": {
    "deletable": false,
    "editable": false,
    "nbgrader": {
     "cell_type": "code",
     "checksum": "2dca178ec98f1d6975e7a2d9ebfbff68",
     "grade": true,
     "grade_id": "cell-f304b70d40d75159",
     "locked": true,
     "points": 1,
     "schema_version": 3,
     "solution": false,
     "task": false
    }
   },
   "outputs": [
    {
     "name": "stdout",
     "output_type": "stream",
     "text": [
      "Test passed!\n"
     ]
    },
    {
     "data": {
      "text/plain": [
       "1"
      ]
     },
     "execution_count": 7,
     "metadata": {},
     "output_type": "execute_result"
    }
   ],
   "source": [
    "# 1 Mark\n",
    "# Do not try to delete this cell\n",
    "# Run this cell for grading\n",
    "_globals = globals()\n",
    "question1c(_globals)"
   ]
  },
  {
   "cell_type": "markdown",
   "metadata": {
    "deletable": false,
    "editable": false,
    "nbgrader": {
     "cell_type": "markdown",
     "checksum": "b59b44981c9dc6e789f7bc3a610251b0",
     "grade": false,
     "grade_id": "cell-11dfed6f53956a3b",
     "locked": true,
     "schema_version": 3,
     "solution": false
    }
   },
   "source": [
    "(d) Write and test a function called `eccentric_anomaly`, which takes as its arguments floats $M$ and $e$, and a non-negative integer $M$, and returns, as a float, an estimate for the eccentric anomaly associated with mean anomaly $M$ and eccentricity $e$. This should be obtained from Kepler's equation by iterating $n$ times, starting with $E=M$, using the most rapidly converging of the three iterations above. You may assume that $0\\le e < 1$."
   ]
  },
  {
   "cell_type": "code",
   "execution_count": 8,
   "metadata": {
    "deletable": false,
    "nbgrader": {
     "cell_type": "code",
     "checksum": "32a216ac1828028042d784a063710a28",
     "grade": false,
     "grade_id": "cell-0edaadf7edf15359",
     "locked": false,
     "schema_version": 3,
     "solution": true
    }
   },
   "outputs": [],
   "source": [
    "def eccentric_anomaly(M, e, n):\n",
    "    from math import pi, sin, cos\n",
    "    \"\"\"\n",
    "    Returns an estimate for the eccentric anomaly associated\n",
    "    with mean anomaly M, and eccentricity e, obtained by n\n",
    "    iterations of a rapidly converging sequence\n",
    "    \"\"\"\n",
    "    \n",
    "    f = lambda E: (M+e*sin(E)-E*e*cos(E))/(1-e*cos(E))\n",
    "    x = M\n",
    "    for i in range(n):\n",
    "        x = f(x)\n",
    "    return x\n",
    "\n"
   ]
  },
  {
   "cell_type": "code",
   "execution_count": 9,
   "metadata": {
    "deletable": false,
    "editable": false,
    "nbgrader": {
     "cell_type": "code",
     "checksum": "3502360265e36cd53da05df1c642a0cd",
     "grade": true,
     "grade_id": "cell-4c4e58d7e8c3d46e",
     "locked": true,
     "points": 2,
     "schema_version": 3,
     "solution": false
    }
   },
   "outputs": [
    {
     "name": "stdout",
     "output_type": "stream",
     "text": [
      "Testing: typical case\n",
      "eccentric_anomaly(pi/2, 0.95, 5) returned the correct output\n",
      "\n",
      "Testing: edge cases\n",
      "eccentric_anomaly(pi/2, 0.95, 0) returned the correct output\n",
      "eccentric_anomaly(pi/2, 0, 5) returned the correct output\n",
      "\n",
      "Question 1d: 2 out of 2\n"
     ]
    },
    {
     "data": {
      "text/plain": [
       "2"
      ]
     },
     "execution_count": 9,
     "metadata": {},
     "output_type": "execute_result"
    }
   ],
   "source": [
    "# 2 Marks\n",
    "# Do not try to delete this cell\n",
    "# Run this cell for grading\n",
    "_globals = globals()\n",
    "question1d(_globals)"
   ]
  },
  {
   "cell_type": "markdown",
   "metadata": {
    "deletable": false,
    "editable": false,
    "nbgrader": {
     "cell_type": "markdown",
     "checksum": "8661656087bf2ca7f9300d06053f92f5",
     "grade": false,
     "grade_id": "cell-213e319a58ca71f2",
     "locked": true,
     "schema_version": 3,
     "solution": false
    }
   },
   "source": [
    "## Question 2\n",
    "\n",
    "(a) Write a function called <code>integer_digits</code>, which takes as its arguments <code>number</code> (an int greater than or equal to 0) and <code>base</code> (an int greater than 1), and returns, as a list, the digits of <code>number</code> in base <code>base</code>. \n",
    "\n",
    "Test your function: the commands <code>integer_digits(347, 10)</code> and <code>integer_digits(347, 2)</code> should return, respectively, <code>[3, 4, 7]</code> and <code>[1, 0, 1, 0, 1, 1, 0, 1, 1]</code>. If <code>number</code> is equal to zero, an empty list should be returned.\n",
    "\n",
    "Make sure your code also works if you call it using <b>keywords</b>: for example,\n",
    "\n",
    "```python\n",
    "integer_digits(number = 347, base = 10)\n",
    "```"
   ]
  },
  {
   "cell_type": "code",
   "execution_count": 43,
   "metadata": {
    "deletable": false,
    "nbgrader": {
     "cell_type": "code",
     "checksum": "714f88341b8830580bccd9ecc9b4094d",
     "grade": false,
     "grade_id": "cell-6c432b941e2929af",
     "locked": false,
     "schema_version": 3,
     "solution": true
    }
   },
   "outputs": [
    {
     "name": "stdout",
     "output_type": "stream",
     "text": [
      "[2, 1, 3, 1]\n"
     ]
    }
   ],
   "source": [
    "#digit_map = '0123456789abcdefghijklmnopqrstuvwxyz'\n",
    "digit_map = list(range(10))\n",
    "\n",
    "def integer_digits(number, *, base=10):\n",
    "    assert base in range(2, len(digit_map)+1), f'base must be between 2 and {len(digit_map)}'\n",
    "    if number == 0:\n",
    "        return []\n",
    "    digits = []\n",
    "    power = 1\n",
    "    while power < number:\n",
    "        power *= base\n",
    "    while power >= 1:\n",
    "        if power <= number:\n",
    "            digits.append(digit_map[1])\n",
    "            number -= power\n",
    "            while number >= power:\n",
    "                digits[-1] = digit_map[digit_map.index(digits[-1])+1]\n",
    "                number -= power\n",
    "        else:\n",
    "            digits.append(digit_map[0])\n",
    "        power //= base\n",
    "    if digits[0] != digit_map[0]:\n",
    "        return digits\n",
    "    for i in range(len(digits)):\n",
    "        if digits[i] != digit_map[0]:\n",
    "            break\n",
    "    return digits[i:]\n",
    "\n",
    "print(integer_digits(2131))\n",
    "                "
   ]
  },
  {
   "cell_type": "code",
   "execution_count": 17,
   "metadata": {
    "deletable": false,
    "editable": false,
    "nbgrader": {
     "cell_type": "code",
     "checksum": "adfdf32ae44397e973db701d84d33f14",
     "grade": true,
     "grade_id": "cell-f96bf7f1f098f4a6",
     "locked": true,
     "points": 0,
     "schema_version": 3,
     "solution": false
    }
   },
   "outputs": [
    {
     "name": "stdout",
     "output_type": "stream",
     "text": [
      "Unit test passed! Run some of your own tests, making sure to try a variety of cases.\n"
     ]
    }
   ],
   "source": [
    "# Run this test cell to check your code\n",
    "# Unit test\n",
    "# 0 Marks\n",
    "assert(integer_digits(347,2) == [1, 0, 1, 0, 1, 1, 0, 1, 1])\n",
    "print('Unit test passed! Run some of your own tests, making sure to try a variety of cases.')"
   ]
  },
  {
   "cell_type": "code",
   "execution_count": 21,
   "metadata": {},
   "outputs": [
    {
     "name": "stdout",
     "output_type": "stream",
     "text": [
      "Passed!\n"
     ]
    }
   ],
   "source": [
    "# test\n",
    "import random\n",
    "\n",
    "for base in range(2, 11):\n",
    "    for _ in range(5):\n",
    "        i = random.randint(0, 1000)\n",
    "        digits = integer_digits(i, base)\n",
    "        assert i == sum([digits[-(j+1)]*pow(base, j) for j in range(len(digits))]) \n",
    "print('Passed!')"
   ]
  },
  {
   "cell_type": "code",
   "execution_count": 25,
   "metadata": {
    "deletable": false,
    "editable": false,
    "nbgrader": {
     "cell_type": "code",
     "checksum": "1c1071ccda4a27a0f175960ff49e2355",
     "grade": true,
     "grade_id": "cell-5922f55d871755cd",
     "locked": true,
     "points": 3,
     "schema_version": 3,
     "solution": false
    }
   },
   "outputs": [
    {
     "name": "stdout",
     "output_type": "stream",
     "text": [
      "Testing: arguments by position\n",
      "integer_digits(6,2) returned the correct output\n",
      "integer_digits(347,2) returned the correct output\n",
      "integer_digits(347,10) returned the correct output\n",
      "\n",
      "Testing: arguments by keyword\n",
      "integer_digits(number=6,base=2) returned the correct output\n",
      "integer_digits(base=2,number=347) returned the correct output\n",
      "integer_digits(number=347,base=10) returned the correct output\n",
      "\n",
      "Testing: edge cases\n",
      "integer_digits(1,2) returned the correct output\n",
      "integer_digits(base=7,number=1) returned the correct output\n",
      "integer_digits(0,10) returned the correct output\n",
      "\n",
      "Question 2a: 3 out of 3\n"
     ]
    },
    {
     "data": {
      "text/plain": [
       "3"
      ]
     },
     "execution_count": 25,
     "metadata": {},
     "output_type": "execute_result"
    }
   ],
   "source": [
    "# 3 Marks\n",
    "# Do not try to delete this cell\n",
    "# Run this cell for grading\n",
    "_globals = globals()\n",
    "question2a(_globals)"
   ]
  },
  {
   "cell_type": "markdown",
   "metadata": {
    "deletable": false,
    "editable": false,
    "nbgrader": {
     "cell_type": "markdown",
     "checksum": "b1d7bdf4017114626fd4b7212116c7ef",
     "grade": false,
     "grade_id": "cell-34d7c7eda0219df8",
     "locked": true,
     "schema_version": 3,
     "solution": false
    }
   },
   "source": [
    "(b) Adapt your <code>integer_digits</code> function so that the default value of <code>base</code> is 10. \n",
    "\n",
    "Test. If you've done it right, \n",
    "\n",
    "```python\n",
    "integer_digits(347, 10)\n",
    "integer_digits(347, 2)\n",
    "integer_digits(number = 347, base = 10)\n",
    "```\n",
    "\n",
    "and\n",
    "\n",
    "```python\n",
    "integer_digits(base = 10, number = 347)\n",
    "```\n",
    "should all still work, but in addition, \n",
    "\n",
    "```python\n",
    "integer_digits(347)\n",
    "```\n",
    "\n",
    "and \n",
    "\n",
    "```python\n",
    "integer_digits(number = 347)\n",
    "```\n",
    "\n",
    "should both return <code>[3, 4, 7]</code>."
   ]
  },
  {
   "cell_type": "code",
   "execution_count": null,
   "metadata": {
    "deletable": false,
    "nbgrader": {
     "cell_type": "code",
     "checksum": "12a505ab166e9e99478f71cb84f653f3",
     "grade": false,
     "grade_id": "cell-b2b38ba00344d53d",
     "locked": false,
     "schema_version": 3,
     "solution": true
    }
   },
   "outputs": [],
   "source": [
    "# YOUR CODE HERE\n"
   ]
  },
  {
   "cell_type": "code",
   "execution_count": 39,
   "metadata": {
    "deletable": false,
    "editable": false,
    "nbgrader": {
     "cell_type": "code",
     "checksum": "e40265dcf4c12436e763a203e7ad0008",
     "grade": true,
     "grade_id": "cell-a503a65776131ce2",
     "locked": true,
     "points": 0,
     "schema_version": 3,
     "solution": false
    }
   },
   "outputs": [
    {
     "name": "stdout",
     "output_type": "stream",
     "text": [
      "Unit test passed! Run some of your own tests, making sure to try a variety of cases.\n"
     ]
    }
   ],
   "source": [
    "# Run this test cell to check your code\n",
    "# Unit test\n",
    "# 0 Marks\n",
    "assert(integer_digits(347) == [3,4,7])\n",
    "print('Unit test passed! Run some of your own tests, making sure to try a variety of cases.')"
   ]
  },
  {
   "cell_type": "code",
   "execution_count": 40,
   "metadata": {
    "deletable": false,
    "editable": false,
    "nbgrader": {
     "cell_type": "code",
     "checksum": "c91ada84ade535a4ef026f82ba6dfcc8",
     "grade": true,
     "grade_id": "cell-3a23b2de29ebc595",
     "locked": true,
     "points": 4,
     "schema_version": 3,
     "solution": false
    }
   },
   "outputs": [
    {
     "name": "stdout",
     "output_type": "stream",
     "text": [
      "Testing: arguments by position\n",
      "integer_digits(6,2) returned the correct output\n",
      "integer_digits(347,2) returned the correct output\n",
      "integer_digits(347,10) returned the correct output\n",
      "\n",
      "Testing: arguments by keyword\n",
      "integer_digits(number=6,base=2) returned the correct output\n",
      "integer_digits(base=2,number=347) returned the correct output\n",
      "integer_digits(number=347,base=10) returned the correct output\n",
      "\n",
      "Testing: edge cases\n",
      "integer_digits(1,2) returned the correct output\n",
      "integer_digits(base=7,number=1) returned the correct output\n",
      "integer_digits(0,10) returned the correct output\n",
      "\n",
      "Testing: default value\n",
      "integer_digits(347) returned the correct output\n",
      "integer_digits(number=347) returned the correct output\n",
      "integer_digits(number=0) returned the correct output\n",
      "\n",
      "Question 2b: 4 out of 4\n"
     ]
    },
    {
     "data": {
      "text/plain": [
       "4"
      ]
     },
     "execution_count": 40,
     "metadata": {},
     "output_type": "execute_result"
    }
   ],
   "source": [
    "# 4 Marks\n",
    "# Do not try to delete this cell\n",
    "# Run this cell for grading\n",
    "_globals = globals()\n",
    "question2b(_globals)"
   ]
  },
  {
   "cell_type": "markdown",
   "metadata": {
    "deletable": false,
    "editable": false,
    "nbgrader": {
     "cell_type": "markdown",
     "checksum": "1a8d6d5a8a2a011ca3de3c3993677b53",
     "grade": false,
     "grade_id": "cell-7390568762b9bccf",
     "locked": true,
     "schema_version": 3,
     "solution": false
    }
   },
   "source": [
    "(c) Adapt your code further so that <code>base</code> is only accepted as a keyword argument, but <code>number</code> can be positional or keyword.\n",
    "\n",
    "If you've done it right, the following should work:\n",
    "\n",
    "```python\n",
    "integer_digits(347)\n",
    "integer_digits(number = 347)\n",
    "integer_digits(347, base = 2)\n",
    "integer_digits(number = 347, base = 2)\n",
    "integer_digits(base = 2, number = 347)\n",
    "```\n",
    "\n",
    "but \n",
    "\n",
    "```python\n",
    "integer_digits(347, 2)\n",
    "```\n",
    "\n",
    "should no longer work.\n",
    "\n",
    "Can you think of an advantage of this arrangement?"
   ]
  },
  {
   "cell_type": "code",
   "execution_count": null,
   "metadata": {
    "deletable": false,
    "nbgrader": {
     "cell_type": "code",
     "checksum": "fffeb7056d18af0d007ddcd94e0b7dba",
     "grade": false,
     "grade_id": "cell-fda6ae637f58982c",
     "locked": false,
     "schema_version": 3,
     "solution": true
    }
   },
   "outputs": [],
   "source": [
    "# YOUR CODE HERE\n",
    "raise NotImplementedError()"
   ]
  },
  {
   "cell_type": "code",
   "execution_count": 44,
   "metadata": {
    "deletable": false,
    "editable": false,
    "nbgrader": {
     "cell_type": "code",
     "checksum": "7e780d54a594e92eefe4fed4dc2a96fd",
     "grade": true,
     "grade_id": "cell-70f2ba6cc7659b0a",
     "locked": true,
     "points": 2,
     "schema_version": 3,
     "solution": false
    }
   },
   "outputs": [
    {
     "name": "stdout",
     "output_type": "stream",
     "text": [
      "Testing: these should all work\n",
      "integer_digits(347) returned the correct output\n",
      "integer_digits(number=347) returned the correct output\n",
      "integer_digits(347,base=2) returned the correct output\n",
      "integer_digits(number=347,base=2) returned the correct output\n",
      "integer_digits(base=2,number=347) returned the correct output\n",
      "\n",
      "Testing: this one should fail\n",
      "integer_digits(347,2) failed, as it should have\n",
      "\n",
      "Question 2c: 2 out of 2\n"
     ]
    },
    {
     "data": {
      "text/plain": [
       "2"
      ]
     },
     "execution_count": 44,
     "metadata": {},
     "output_type": "execute_result"
    }
   ],
   "source": [
    "# 2 Marks\n",
    "# Do not try to delete this cell\n",
    "# Run this cell for grading\n",
    "_globals = globals()\n",
    "question2c(_globals)"
   ]
  },
  {
   "cell_type": "markdown",
   "metadata": {
    "deletable": false,
    "editable": false,
    "nbgrader": {
     "cell_type": "markdown",
     "checksum": "25f3266e91b377052c8f11be6def3f4f",
     "grade": false,
     "grade_id": "cell-0a15838b7d4d3f2a",
     "locked": true,
     "schema_version": 3,
     "solution": false
    }
   },
   "source": [
    "## Question 3\n",
    "(a) Write and test a hailstone sequence function which uses the infinite loop\n",
    "\n",
    "```python\n",
    "    while True:\n",
    "```\n",
    "\n",
    "instead of a loop with a terminating condition. This function should terminate at the first occurrence of 1. \n",
    "\n",
    "An <code>hailstone_step</code> function is provided for you below.\n",
    "\n",
    "Note: autograding won't be able to tell whether you've used <code>while True</code>, but please do try."
   ]
  },
  {
   "cell_type": "code",
   "execution_count": 48,
   "metadata": {
    "deletable": false,
    "nbgrader": {
     "cell_type": "code",
     "checksum": "72fd3c06c37ba209e3fd3e59c44ffbad",
     "grade": false,
     "grade_id": "cell-74b97b68f8c335a0",
     "locked": false,
     "schema_version": 3,
     "solution": true
    }
   },
   "outputs": [],
   "source": [
    "def hailstone_step(a):\n",
    "    if a % 2 == 0:\n",
    "        return a//2\n",
    "    else:\n",
    "        return 3*a+1\n",
    "\n",
    "def hailstone_sequence(a):\n",
    "    li = [a]\n",
    "    while a != 1:\n",
    "        a = hailstone_step(a)\n",
    "        li.append(a)\n",
    "    return li\n"
   ]
  },
  {
   "cell_type": "code",
   "execution_count": 49,
   "metadata": {
    "deletable": false,
    "editable": false,
    "nbgrader": {
     "cell_type": "code",
     "checksum": "921f40d8070f9b094522acfb96b81051",
     "grade": true,
     "grade_id": "cell-1f24b08e62f943b4",
     "locked": true,
     "points": 2,
     "schema_version": 3,
     "solution": false
    }
   },
   "outputs": [
    {
     "name": "stdout",
     "output_type": "stream",
     "text": [
      "Testing: typical case\n",
      "hailstone_sequence(11) returned the correct output\n",
      "\n",
      "Testing: edge case\n",
      "hailstone_sequence(1) returned the correct output\n",
      "\n",
      "Question 3a: 2 out of 2\n"
     ]
    },
    {
     "data": {
      "text/plain": [
       "2"
      ]
     },
     "execution_count": 49,
     "metadata": {},
     "output_type": "execute_result"
    }
   ],
   "source": [
    "# 2 Marks\n",
    "# Do not try to delete this cell\n",
    "# Run this cell for grading\n",
    "_globals = globals()\n",
    "question3a(_globals)"
   ]
  },
  {
   "cell_type": "markdown",
   "metadata": {
    "deletable": false,
    "editable": false,
    "nbgrader": {
     "cell_type": "markdown",
     "checksum": "922f159aa830a95dc661b00cd5da6a6e",
     "grade": false,
     "grade_id": "cell-29c5f4414e004b05",
     "locked": true,
     "schema_version": 3,
     "solution": false
    }
   },
   "source": [
    "(b) Write and test an <code>aliquot_chain</code> function, called <code>aliquot_chain</code> which uses the infinite loop\n",
    "\n",
    "```python\n",
    "    while True:\n",
    "```\n",
    "\n",
    "instead of a loop with a terminating condition. It should terminate at the first occurrence of a number that has already been seen. You may want to reuse your <code>factor_sum</code> function from earlier in the module."
   ]
  },
  {
   "cell_type": "code",
   "execution_count": 50,
   "metadata": {
    "deletable": false,
    "nbgrader": {
     "cell_type": "code",
     "checksum": "b1496c0bbac393665877525f1cb072e9",
     "grade": false,
     "grade_id": "cell-3d6fc02febf86f32",
     "locked": false,
     "schema_version": 3,
     "solution": true
    }
   },
   "outputs": [],
   "source": [
    "def factor_sum(a):\n",
    "    s = 0\n",
    "    for i in range(1, int(a**(1/2))+1):\n",
    "        if a % i == 0:\n",
    "            s += i\n",
    "            j = a // i\n",
    "            if i != j:\n",
    "                s += j\n",
    "    return s\n",
    "\n",
    "def aliquot_chain(a):\n",
    "    li = [a]\n",
    "    while True:\n",
    "        b = factor_sum(li[-1])-li[-1]\n",
    "        if b in li:\n",
    "            li.append(b)\n",
    "            return li\n",
    "        li.append(b)\n"
   ]
  },
  {
   "cell_type": "code",
   "execution_count": 51,
   "metadata": {
    "deletable": false,
    "editable": false,
    "nbgrader": {
     "cell_type": "code",
     "checksum": "ea13637f33186246ff88f2a2f3714a67",
     "grade": true,
     "grade_id": "cell-547043decd0b74d6",
     "locked": true,
     "points": 4,
     "schema_version": 3,
     "solution": false
    }
   },
   "outputs": [
    {
     "name": "stdout",
     "output_type": "stream",
     "text": [
      "Testing: typical case\n",
      "aliquot_chain(282) returned the correct output\n",
      "\n",
      "Testing: edge case\n",
      "aliquot_chain(0) returned the correct output\n",
      "\n",
      "Testing: perfect number\n",
      "aliquot_chain(28) returned the correct output\n",
      "\n",
      "Testing: amicable pair\n",
      "aliquot_chain(284) returned the correct output\n",
      "\n",
      "Question 3b: 4 out of 4\n"
     ]
    },
    {
     "data": {
      "text/plain": [
       "4"
      ]
     },
     "execution_count": 51,
     "metadata": {},
     "output_type": "execute_result"
    }
   ],
   "source": [
    "# 4 Marks\n",
    "# Do not try to delete this cell\n",
    "# Run this cell for grading\n",
    "_globals = globals()\n",
    "question3b(_globals)"
   ]
  },
  {
   "cell_type": "markdown",
   "metadata": {
    "deletable": false,
    "editable": false,
    "nbgrader": {
     "cell_type": "markdown",
     "checksum": "b083ee11fefb0411beb995e5b185f87f",
     "grade": false,
     "grade_id": "cell-e630564553dbeb4e",
     "locked": true,
     "schema_version": 3,
     "solution": false
    }
   },
   "source": [
    "(c) The following code is for a function called <code>power_of_two_divisor1</code>, which takes as its argument <code>n</code>, assumed to be a positive integer, and returns the highest value of <code>r</code> such that $2^r$ divides $n$; so for example\n",
    "\n",
    "```python\n",
    "power_of_two_divisor1(24)\n",
    "```\n",
    "\n",
    "returns 3, because $2^3$ divides 24."
   ]
  },
  {
   "cell_type": "code",
   "execution_count": 53,
   "metadata": {
    "deletable": false,
    "editable": false,
    "nbgrader": {
     "cell_type": "code",
     "checksum": "c229846c274015d1edff6e4a03a54cf3",
     "grade": false,
     "grade_id": "cell-aaba81fd4e87358b",
     "locked": true,
     "schema_version": 3,
     "solution": false
    }
   },
   "outputs": [],
   "source": [
    "def power_of_two_divisor1(n):\n",
    "    r = 0\n",
    "    \n",
    "    # while loop, terminating when n becomes odd\n",
    "    while n % 2 == 0:\n",
    "        # increment n\n",
    "        r += 1\n",
    "        # divide n by 2\n",
    "        n = n // 2\n",
    "    \n",
    "    return r"
   ]
  },
  {
   "cell_type": "markdown",
   "metadata": {
    "deletable": false,
    "editable": false,
    "nbgrader": {
     "cell_type": "markdown",
     "checksum": "c32d7525c652c438216daf092f960bd2",
     "grade": false,
     "grade_id": "cell-5f73c8ec66d9c796",
     "locked": true,
     "schema_version": 3,
     "solution": false
    }
   },
   "source": [
    "Test this function.\n",
    "\n",
    "Then, write and test a version of it called <code>power_of_two_divisor2</code> that doesn't use a while loop at all, but instead uses the infinite loop\n",
    "\n",
    "```python\n",
    "for r in count()\n",
    "```\n",
    "\n",
    "An outline is provided below."
   ]
  },
  {
   "cell_type": "code",
   "execution_count": 56,
   "metadata": {
    "deletable": false,
    "nbgrader": {
     "cell_type": "code",
     "checksum": "a32333808e890058af01035fb70f1ba5",
     "grade": false,
     "grade_id": "cell-7ca2fe4de8b88de3",
     "locked": false,
     "schema_version": 3,
     "solution": true
    }
   },
   "outputs": [],
   "source": [
    "def power_of_two_divisor2(n):\n",
    "    from itertools import count\n",
    "    # infinite for loop\n",
    "    for r in count():\n",
    "        # YOUR CODE HERE\n",
    "        if n % 2 != 0:\n",
    "            return r\n",
    "        n //= 2"
   ]
  },
  {
   "cell_type": "code",
   "execution_count": 57,
   "metadata": {
    "deletable": false,
    "editable": false,
    "nbgrader": {
     "cell_type": "code",
     "checksum": "6fe700690a427c06eb702cea3d281061",
     "grade": true,
     "grade_id": "cell-b763bf1de9d34a56",
     "locked": true,
     "points": 4,
     "schema_version": 3,
     "solution": false
    }
   },
   "outputs": [
    {
     "name": "stdout",
     "output_type": "stream",
     "text": [
      "Testing: small even number\n",
      "power_of_two_divisor2(24) returned the correct output\n",
      "\n",
      "Testing: small odd number\n",
      "power_of_two_divisor2(23) returned the correct output\n",
      "\n",
      "Testing: large even number\n",
      "power_of_two_divisor2(2**103*3**89) returned the correct output\n",
      "\n",
      "Testing: large odd number\n",
      "power_of_two_divisor2(5**103*3**89) returned the correct output\n",
      "\n",
      "Question 3c: 4 out of 4\n"
     ]
    },
    {
     "data": {
      "text/plain": [
       "4"
      ]
     },
     "execution_count": 57,
     "metadata": {},
     "output_type": "execute_result"
    }
   ],
   "source": [
    "# 4 Marks\n",
    "# Do not try to delete this cell\n",
    "# Run this cell for grading\n",
    "_globals = globals()\n",
    "question3c(_globals)"
   ]
  },
  {
   "cell_type": "markdown",
   "metadata": {
    "deletable": false,
    "editable": false,
    "nbgrader": {
     "cell_type": "markdown",
     "checksum": "8453b992f76cae8da1eae9909df946b5",
     "grade": false,
     "grade_id": "cell-3b1f99c73f3a9ca3",
     "locked": true,
     "schema_version": 3,
     "solution": false
    }
   },
   "source": [
    "## Question 4\n",
    "\n",
    "(a) Complete the following factorial function, <code>my_factorial</code>, which works using <b>recursion</b>: that is, by calling itself. Test your function."
   ]
  },
  {
   "cell_type": "code",
   "execution_count": 54,
   "metadata": {
    "deletable": false,
    "nbgrader": {
     "cell_type": "code",
     "checksum": "d7e4ad34de5bf3b7a5e9228978b39a05",
     "grade": false,
     "grade_id": "cell-8e24c72afd376c6e",
     "locked": false,
     "schema_version": 3,
     "solution": true
    }
   },
   "outputs": [],
   "source": [
    "def my_factorial(n):\n",
    "    # base case\n",
    "    if n==1 or n==0:\n",
    "        return 1\n",
    "    # recursion step\n",
    "    else:\n",
    "        # YOUR CODE HERE\n",
    "        return n * my_factorial(n-1)"
   ]
  },
  {
   "cell_type": "code",
   "execution_count": 55,
   "metadata": {
    "deletable": false,
    "editable": false,
    "nbgrader": {
     "cell_type": "code",
     "checksum": "8cdcd4257267ede141587637640277e5",
     "grade": true,
     "grade_id": "cell-d8620df67910e0fb",
     "locked": true,
     "points": 2,
     "schema_version": 3,
     "solution": false
    }
   },
   "outputs": [
    {
     "name": "stdout",
     "output_type": "stream",
     "text": [
      "Testing: typical cases\n",
      "my_factorial(10) returned the correct output\n",
      "my_factorial(100) returned the correct output\n",
      "\n",
      "Testing: edge cases\n",
      "my_factorial(1) returned the correct output\n",
      "my_factorial(0) returned the correct output\n",
      "\n",
      "Question 4a: 2 out of 2\n"
     ]
    },
    {
     "data": {
      "text/plain": [
       "2"
      ]
     },
     "execution_count": 55,
     "metadata": {},
     "output_type": "execute_result"
    }
   ],
   "source": [
    "# 2 Marks\n",
    "# Do not try to delete this cell\n",
    "# Run this cell for grading\n",
    "_globals = globals()\n",
    "question4a(_globals)"
   ]
  },
  {
   "cell_type": "markdown",
   "metadata": {
    "deletable": false,
    "editable": false,
    "nbgrader": {
     "cell_type": "markdown",
     "checksum": "8574431100f2c0a68c183d97575e622c",
     "grade": false,
     "grade_id": "cell-5b84cb31d48b0155",
     "locked": true,
     "schema_version": 3,
     "solution": false
    }
   },
   "source": [
    "(b) Write and test a recursive version of your <code>hailstone_sequence</code> function, called <code>hailstone_sequence2</code>, which should work by calling itself instead of by a loop, and which should terminate at the first occurence of $1$. \n",
    "\n",
    "Autograding can't tell whether you've used recursion, but please do try!"
   ]
  },
  {
   "cell_type": "code",
   "execution_count": 59,
   "metadata": {
    "deletable": false,
    "nbgrader": {
     "cell_type": "code",
     "checksum": "771239c9a9179f97afb8c81ef46c87b3",
     "grade": false,
     "grade_id": "cell-483675ae72e172f2",
     "locked": false,
     "schema_version": 3,
     "solution": true
    }
   },
   "outputs": [],
   "source": [
    "def hailstone_step(a):\n",
    "    if a % 2 == 0:\n",
    "        return a//2\n",
    "    else:\n",
    "        return 3*a+1\n",
    "\n",
    "def hailstone_sequence2(a):\n",
    "    # YOUR CODE HERE\n",
    "    if a == 1:\n",
    "        return [a]\n",
    "    return [a] + hailstone_sequence2(hailstone_step(a))"
   ]
  },
  {
   "cell_type": "code",
   "execution_count": 60,
   "metadata": {
    "deletable": false,
    "editable": false,
    "nbgrader": {
     "cell_type": "code",
     "checksum": "83eeb8d9333f5abd03522f8345cd6312",
     "grade": true,
     "grade_id": "cell-5b9dff1d06c22cb3",
     "locked": true,
     "points": 2,
     "schema_version": 3,
     "solution": false
    }
   },
   "outputs": [
    {
     "name": "stdout",
     "output_type": "stream",
     "text": [
      "Testing: typical case\n",
      "hailstone_sequence2(11) returned the correct output\n",
      "\n",
      "Testing: edge case\n",
      "hailstone_sequence2(1) returned the correct output\n",
      "\n",
      "Question 4b: 2 out of 2\n"
     ]
    },
    {
     "data": {
      "text/plain": [
       "2"
      ]
     },
     "execution_count": 60,
     "metadata": {},
     "output_type": "execute_result"
    }
   ],
   "source": [
    "# 2 Marks\n",
    "# Do not try to delete this cell\n",
    "# Run this cell for grading\n",
    "_globals = globals()\n",
    "question4b(_globals)"
   ]
  },
  {
   "cell_type": "markdown",
   "metadata": {
    "deletable": false,
    "editable": false,
    "nbgrader": {
     "cell_type": "markdown",
     "checksum": "b66efe973780d8817747f54dd7a3c881",
     "grade": false,
     "grade_id": "cell-90bb23841ea077aa",
     "locked": true,
     "schema_version": 3,
     "solution": false
    }
   },
   "source": [
    "(c) The following code defines an iterative function called <code>fibonacci</code>:"
   ]
  },
  {
   "cell_type": "code",
   "execution_count": 63,
   "metadata": {
    "deletable": false,
    "editable": false,
    "nbgrader": {
     "cell_type": "code",
     "checksum": "651a7b06c77319186be8151d6c6bf30f",
     "grade": false,
     "grade_id": "cell-5904603ea61036b8",
     "locked": true,
     "schema_version": 3,
     "solution": false
    }
   },
   "outputs": [],
   "source": [
    "def fibonacci(n):\n",
    "    # initialize a and b\n",
    "    a, b = 1, 1\n",
    "    # the cases 1 and 2\n",
    "    if n==1 or n==2:\n",
    "        return 1\n",
    "    else:\n",
    "        for r in range(3,n+1):\n",
    "            a, b = b, a + b\n",
    "        return b"
   ]
  },
  {
   "cell_type": "markdown",
   "metadata": {
    "deletable": false,
    "editable": false,
    "nbgrader": {
     "cell_type": "markdown",
     "checksum": "daaf7483e1f406d33653c95f45085119",
     "grade": false,
     "grade_id": "cell-d273461e9ed41671",
     "locked": true,
     "schema_version": 3,
     "solution": false
    }
   },
   "source": [
    "The following is an alternative, recursive version:"
   ]
  },
  {
   "cell_type": "code",
   "execution_count": 66,
   "metadata": {
    "deletable": false,
    "editable": false,
    "nbgrader": {
     "cell_type": "code",
     "checksum": "4d71c595ed67a4774f5e3d9273553882",
     "grade": false,
     "grade_id": "cell-7abb16853428d1ad",
     "locked": true,
     "schema_version": 3,
     "solution": false
    }
   },
   "outputs": [],
   "source": [
    "def fibonacci2(n):\n",
    "    # base case\n",
    "    if n==1 or n==2:\n",
    "        return 1\n",
    "    # recursion step\n",
    "    else:\n",
    "        return fibonacci2(n-1) + fibonacci2(n-2)"
   ]
  },
  {
   "cell_type": "markdown",
   "metadata": {
    "deletable": false,
    "editable": false,
    "nbgrader": {
     "cell_type": "markdown",
     "checksum": "0b34f2c477bcf08fc4c3192443f6922a",
     "grade": false,
     "grade_id": "cell-d633358bbde7ec0f",
     "locked": true,
     "schema_version": 3,
     "solution": false
    }
   },
   "source": [
    "Test that these two functions return the same arguments for $n=1, 2, 3, \\dots, 10$.\n",
    "\n",
    "Autograding can't tell whether you've done that or not, but please do!\n",
    "\n",
    "Calculate the 35th Fibonacci number using each of these two functions, then choose one of the following options:\n",
    "\n",
    "1. Both functions give the same output for $n=35$, in about the same time.\n",
    "2. Both functions give the same output for $n=35$, but <code>fibonacci</code> is the more efficient.\n",
    "3. Both functions give the same output for $n=35$, but <code>fibonacci2</code> is the more efficient.\n",
    "4. The two functions give different outputs for $n=35$, suggesting at least one of them has a bug."
   ]
  },
  {
   "cell_type": "code",
   "execution_count": 80,
   "metadata": {
    "deletable": false,
    "nbgrader": {
     "cell_type": "code",
     "checksum": "b6a01fcade44fca96fc09045fb0f1e34",
     "grade": false,
     "grade_id": "cell-fe4c35facb2ba712",
     "locked": false,
     "schema_version": 3,
     "solution": true
    }
   },
   "outputs": [],
   "source": [
    "#test\n",
    "\n",
    "\n",
    "question4c_answer = 2# (delete, and fill in the value 1, 2, 3 or 4)\n",
    "# YOUR CODE HERE\n"
   ]
  },
  {
   "cell_type": "code",
   "execution_count": 81,
   "metadata": {
    "deletable": false,
    "editable": false,
    "nbgrader": {
     "cell_type": "code",
     "checksum": "f5c053a5ea9bc1410076d5b48f25c98f",
     "grade": true,
     "grade_id": "cell-1b5a4c306b8824ef",
     "locked": true,
     "points": 1,
     "schema_version": 3,
     "solution": false
    }
   },
   "outputs": [
    {
     "name": "stdout",
     "output_type": "stream",
     "text": [
      "test case passed!\n"
     ]
    }
   ],
   "source": [
    "# 1 Mark\n",
    "assert(question4c_answer == question4_c())\n",
    "print('test case passed!')"
   ]
  },
  {
   "cell_type": "markdown",
   "metadata": {
    "deletable": false,
    "editable": false,
    "nbgrader": {
     "cell_type": "markdown",
     "checksum": "8e098b34cae44b6cb19b37026e29d2a5",
     "grade": false,
     "grade_id": "cell-6dbdc908791ca337",
     "locked": true,
     "schema_version": 3,
     "solution": false
    }
   },
   "source": [
    "(d) Write and test a recursive function called <code>fibonacci_recpair</code> which takes as its argument <code>n</code>, assumed to be an integer greater than 1, and returns, as a 2-tuple, the $(n-1)$th and $n$th Fibonacci numbers. So, for example, \n",
    "\n",
    "```python\n",
    "fibonacci_recpair(10)\n",
    "```\n",
    "\n",
    "should return <code>(34, 55)</code>."
   ]
  },
  {
   "cell_type": "code",
   "execution_count": 83,
   "metadata": {
    "deletable": false,
    "nbgrader": {
     "cell_type": "code",
     "checksum": "0173c6ac94aacd6fef9eb84d1be2e945",
     "grade": false,
     "grade_id": "cell-4e6a39f259575fb1",
     "locked": false,
     "schema_version": 3,
     "solution": true
    }
   },
   "outputs": [],
   "source": [
    "def fibonacci_recpair(n):\n",
    "    if n == 2:\n",
    "        return 1, 1\n",
    "    pair = fibonacci_recpair(n-1)\n",
    "    return pair[1], pair[0] + pair[1]"
   ]
  },
  {
   "cell_type": "code",
   "execution_count": 84,
   "metadata": {
    "deletable": false,
    "editable": false,
    "nbgrader": {
     "cell_type": "code",
     "checksum": "b0a422aa0b8792ebde0073d59f40653b",
     "grade": true,
     "grade_id": "cell-dc17b901d6f3b7f6",
     "locked": true,
     "points": 2,
     "schema_version": 3,
     "solution": false
    }
   },
   "outputs": [
    {
     "name": "stdout",
     "output_type": "stream",
     "text": [
      "Testing: typical case\n",
      "fibonacci_recpair(10) returned the correct output\n",
      "\n",
      "Testing: edge case\n",
      "fibonacci_recpair(2) returned the correct output\n",
      "\n",
      "Question 4d: 2 out of 2\n"
     ]
    },
    {
     "data": {
      "text/plain": [
       "2"
      ]
     },
     "execution_count": 84,
     "metadata": {},
     "output_type": "execute_result"
    }
   ],
   "source": [
    "# 2 Marks\n",
    "# Do not try to delete this cell\n",
    "# Run this cell for grading\n",
    "_globals = globals()\n",
    "question4d(_globals)"
   ]
  },
  {
   "cell_type": "markdown",
   "metadata": {
    "deletable": false,
    "editable": false,
    "nbgrader": {
     "cell_type": "markdown",
     "checksum": "8c296349635ef9184e0d34c0f58c04db",
     "grade": false,
     "grade_id": "cell-56c8ba0b99c10e61",
     "locked": true,
     "schema_version": 3,
     "solution": false
    }
   },
   "source": [
    "(e) Write and test a function called <code>fibonacci3</code> which, by calling <code>fibonacci_recpair</code>, calculates the $n$th Fibonacci number. (This won't work for $n=1$, so you'll need to make a special case of that.)"
   ]
  },
  {
   "cell_type": "code",
   "execution_count": 89,
   "metadata": {
    "deletable": false,
    "nbgrader": {
     "cell_type": "code",
     "checksum": "2170c9ab095eee20121d4e1ae013af44",
     "grade": false,
     "grade_id": "cell-2b18346684193918",
     "locked": false,
     "schema_version": 3,
     "solution": true
    }
   },
   "outputs": [],
   "source": [
    "def fibonacci3(n):\n",
    "    if n == 1:\n",
    "        return 1\n",
    "    return fibonacci_recpair(n)[1]"
   ]
  },
  {
   "cell_type": "code",
   "execution_count": 86,
   "metadata": {
    "deletable": false,
    "editable": false,
    "nbgrader": {
     "cell_type": "code",
     "checksum": "e94696e807d9412f8253eee43abe6e72",
     "grade": true,
     "grade_id": "cell-e258528bc9ebe868",
     "locked": true,
     "points": 2,
     "schema_version": 3,
     "solution": false
    }
   },
   "outputs": [
    {
     "name": "stdout",
     "output_type": "stream",
     "text": [
      "Testing: typical cases\n",
      "fibonacci3(10) returned the correct output\n",
      "fibonacci3(35) returned the correct output\n",
      "\n",
      "Testing: edge cases\n",
      "fibonacci3(2) returned the correct output\n",
      "fibonacci3(1) returned the correct output\n",
      "\n",
      "Question 4e: 2 out of 2\n"
     ]
    },
    {
     "data": {
      "text/plain": [
       "2"
      ]
     },
     "execution_count": 86,
     "metadata": {},
     "output_type": "execute_result"
    }
   ],
   "source": [
    "# 2 Marks\n",
    "# Do not try to delete this cell\n",
    "# Run this cell for grading\n",
    "_globals = globals()\n",
    "question4e(_globals)"
   ]
  },
  {
   "cell_type": "markdown",
   "metadata": {
    "deletable": false,
    "editable": false,
    "nbgrader": {
     "cell_type": "markdown",
     "checksum": "da0cbc3a4307a0eec68a7c40cbe31cbf",
     "grade": false,
     "grade_id": "cell-2c23420508ee7382",
     "locked": true,
     "schema_version": 3,
     "solution": false,
     "task": false
    }
   },
   "source": [
    "The \"inner-and-outer\" trick is one way of dealing with the problem of slow execution time; another is the use of <b>default values</b>. \n",
    "\n",
    "(f) Write and test a function, `fibonacci4`, which has the optional keyword-only argument `return_pair`, with default value `False`. If `return_pair` is set to `True`, it should behave in the same way as `fibonacci_recpair`: that is, it should call itself recursively, down to the base case corresponding to `n=2`. (Note, your function should not <em>call</em> `fibonacci_recpair`; you should aim to make it <em>behave in the same way</em>. If `return_pair` is set to `False`, it should return the $n$th Fibonacci number, by calling itself with `return_pair` set to `True`.\n",
    "\n",
    "There should be no inner/outer structure; your function should call itself."
   ]
  },
  {
   "cell_type": "code",
   "execution_count": 99,
   "metadata": {
    "deletable": false,
    "nbgrader": {
     "cell_type": "code",
     "checksum": "2dbd92d52c5f4679596e70fca6c85fa1",
     "grade": false,
     "grade_id": "cell-ee6fc54b7a866f6c",
     "locked": false,
     "schema_version": 3,
     "solution": true,
     "task": false
    }
   },
   "outputs": [
    {
     "name": "stdout",
     "output_type": "stream",
     "text": [
      "12586269025\n"
     ]
    }
   ],
   "source": [
    "# using depth parameter is kind of cheating\n",
    "\n",
    "def fibonacci4(n,*,return_pair=False, depth=0):\n",
    "    # YOUR CODE HERE\n",
    "    if n <= 2:\n",
    "        return 1\n",
    "    if return_pair:\n",
    "        if n == 3:\n",
    "            return 1, 2\n",
    "        pair = fibonacci4(n-1, return_pair=True, depth=depth + 1)\n",
    "        if depth == 0:\n",
    "            return pair[0] + pair[1]\n",
    "        return pair[1], pair[0] + pair[1]\n",
    "    return fibonacci4(n-1) + fibonacci4(n-2)\n",
    "\n",
    "print(fibonacci4(50, return_pair=True))"
   ]
  },
  {
   "cell_type": "code",
   "execution_count": null,
   "metadata": {
    "deletable": false,
    "editable": false,
    "nbgrader": {
     "cell_type": "code",
     "checksum": "16bb9c817765577ceadc27d886af9e74",
     "grade": true,
     "grade_id": "cell-f7c893862f5146fe",
     "locked": true,
     "points": 4,
     "schema_version": 3,
     "solution": false,
     "task": false
    }
   },
   "outputs": [],
   "source": [
    "# 4 Marks\n",
    "# Do not try to delete this cell\n",
    "# Run this cell for grading\n",
    "_globals = globals()\n",
    "question4f(_globals)"
   ]
  },
  {
   "cell_type": "markdown",
   "metadata": {
    "deletable": false,
    "editable": false,
    "nbgrader": {
     "cell_type": "markdown",
     "checksum": "b1a02c1984d90bf5b15b611ccedfe28f",
     "grade": false,
     "grade_id": "cell-a73e4c38efd4ec23",
     "locked": true,
     "schema_version": 3,
     "solution": false,
     "task": false
    }
   },
   "source": [
    "(g) A third way to deal with the explosion of execution time in recursion is by using <b>caching</b>: storing values of the function as you go along so they don't need to be recalculated.\n",
    "\n",
    "Copy and paste the code for `fibonacci2`, but this time place the following two lines immediately before it:\n",
    "```python\n",
    "from functools import cache\n",
    "@cache\n",
    "```\n",
    "(The second of these two lines, with the `@` character, is an example of what we call <b>decoration</b>; more about that when we look at object-oriented programming next term).\n",
    "\n",
    "Test `fibonacci2` under these conditions, including for reasonably big values of $n$."
   ]
  },
  {
   "cell_type": "code",
   "execution_count": 102,
   "metadata": {
    "deletable": false,
    "nbgrader": {
     "cell_type": "code",
     "checksum": "1569235717316bd1e3f7310a8dea9ad3",
     "grade": false,
     "grade_id": "cell-f2f88b45178a8a63",
     "locked": false,
     "schema_version": 3,
     "solution": true,
     "task": false
    }
   },
   "outputs": [
    {
     "name": "stdout",
     "output_type": "stream",
     "text": [
      "55\n"
     ]
    }
   ],
   "source": [
    "# YOUR CODE HERE\n",
    "from functools import cache\n",
    "\n",
    "print(cache(fibonacci2)(10))\n"
   ]
  },
  {
   "cell_type": "code",
   "execution_count": 103,
   "metadata": {
    "deletable": false,
    "editable": false,
    "nbgrader": {
     "cell_type": "code",
     "checksum": "be0ff4deb8bde264af1638b7b98b3b82",
     "grade": true,
     "grade_id": "cell-4115a5039352bf19",
     "locked": true,
     "points": 2,
     "schema_version": 3,
     "solution": false,
     "task": false
    }
   },
   "outputs": [
    {
     "name": "stdout",
     "output_type": "stream",
     "text": [
      "Testing: typical cases\n",
      "fibonacci2(10) returned the correct output\n",
      "fibonacci2(35) returned the correct output\n",
      "\n",
      "Testing: edge cases\n",
      "fibonacci2(2) returned the correct output\n",
      "fibonacci2(1) returned the correct output\n",
      "\n",
      "Question 4g: 2 out of 2\n"
     ]
    },
    {
     "data": {
      "text/plain": [
       "2"
      ]
     },
     "execution_count": 103,
     "metadata": {},
     "output_type": "execute_result"
    }
   ],
   "source": [
    "# 2 Marks\n",
    "# Do not try to delete this cell\n",
    "# Run this cell for grading\n",
    "_globals = globals()\n",
    "question4g(_globals)"
   ]
  },
  {
   "cell_type": "markdown",
   "metadata": {
    "deletable": false,
    "editable": false,
    "nbgrader": {
     "cell_type": "markdown",
     "checksum": "45d377d240c07d5b6a8b04373aac1d36",
     "grade": false,
     "grade_id": "cell-0eddc693d578232b",
     "locked": true,
     "schema_version": 3,
     "solution": false
    }
   },
   "source": [
    "(h) Test your code from parts (e), (f) and (g) on $n=35$, and perhaps on higher values, and then choose one of the following:\n",
    "\n",
    "1. Recursion can throw up problems with execution time when a function calls itself more than once; these problems can't generally be solved.\n",
    "2. Recursion can throw up problems with execution time when a function calls itself more than once, but it can be possible to find a work-around using inner and outer functions, default values or caching.\n",
    "3. Recursion doesn't generally throw up problems with execution time at all."
   ]
  },
  {
   "cell_type": "code",
   "execution_count": 104,
   "metadata": {
    "deletable": false,
    "nbgrader": {
     "cell_type": "code",
     "checksum": "ffa7cae74ffbd4de07d374b7baa38dab",
     "grade": false,
     "grade_id": "cell-0ce7f31ea1a61fcb",
     "locked": false,
     "schema_version": 3,
     "solution": true
    }
   },
   "outputs": [],
   "source": [
    "question4h_answer = 2# (delete, and fill in the value 1, 2, or 3)\n",
    "# YOUR CODE HERE"
   ]
  },
  {
   "cell_type": "code",
   "execution_count": 105,
   "metadata": {
    "deletable": false,
    "editable": false,
    "nbgrader": {
     "cell_type": "code",
     "checksum": "fb2b20f71aef67959af89aa29a9b61d7",
     "grade": true,
     "grade_id": "cell-b0e5af91705dd496",
     "locked": true,
     "points": 1,
     "schema_version": 3,
     "solution": false
    }
   },
   "outputs": [
    {
     "name": "stdout",
     "output_type": "stream",
     "text": [
      "test case passed!\n"
     ]
    }
   ],
   "source": [
    "# 1 Mark\n",
    "assert(question4h_answer == question4_h())\n",
    "print('test case passed!')"
   ]
  },
  {
   "cell_type": "markdown",
   "metadata": {
    "deletable": false,
    "editable": false,
    "nbgrader": {
     "cell_type": "markdown",
     "checksum": "a15959b46e9476212ce8ea4e54c77592",
     "grade": false,
     "grade_id": "cell-de6bcc529800b449",
     "locked": true,
     "schema_version": 3,
     "solution": false
    }
   },
   "source": [
    "(j) Write and test a recursive implementation of your aliquot chain function, <code>aliquot_chain2</code>, which should terminate at the first occurrence of a number that has occurred before. You're likely to need your <code>factor_sum</code> function again.\n",
    "\n",
    "Do this by writing, as with part (e), a recursive \"inner\" function and an \"outer\" function that simply calls it. In this case, the \"inner\" function would need to take as its argument not a single value but a list of values; in this way, it has access to information concerning what numbers have already occurred."
   ]
  },
  {
   "cell_type": "code",
   "execution_count": 110,
   "metadata": {
    "deletable": false,
    "nbgrader": {
     "cell_type": "code",
     "checksum": "4fa441c78f3707fadbd42f8afadab231",
     "grade": false,
     "grade_id": "cell-717274c920b3892e",
     "locked": false,
     "schema_version": 3,
     "solution": true
    }
   },
   "outputs": [],
   "source": [
    "def factor_sum(a):\n",
    "    s = 0\n",
    "    for i in range(1, int(a ** (1/2))+1):\n",
    "        if a % i == 0:\n",
    "            j = a // i\n",
    "            s += i\n",
    "            if i != j:\n",
    "                s += j\n",
    "    return s\n",
    "    \n",
    "def aliquot_chain_inner(list_so_far):\n",
    "    b = factor_sum(list_so_far[-1]) - list_so_far[-1]\n",
    "    if b in list_so_far:\n",
    "        list_so_far.append(b)\n",
    "        return list_so_far\n",
    "    list_so_far.append(b)\n",
    "    return aliquot_chain_inner(list_so_far)\n",
    "\n",
    "def aliquot_chain2(a):\n",
    "    return aliquot_chain_inner([a])\n"
   ]
  },
  {
   "cell_type": "code",
   "execution_count": 111,
   "metadata": {
    "deletable": false,
    "editable": false,
    "nbgrader": {
     "cell_type": "code",
     "checksum": "a9db09b4b17dc5e3b137a654ffe7ce69",
     "grade": true,
     "grade_id": "cell-58522f35705ee5d9",
     "locked": true,
     "points": 4,
     "schema_version": 3,
     "solution": false
    }
   },
   "outputs": [
    {
     "name": "stdout",
     "output_type": "stream",
     "text": [
      "Testing: typical case\n",
      "aliquot_chain_inner([282,294,390]) returned the correct output\n",
      "aliquot_chain2(282) returned the correct output\n",
      "\n",
      "Testing: edge case\n",
      "aliquot_chain_inner([0]) returned the correct output\n",
      "aliquot_chain2(0) returned the correct output\n",
      "\n",
      "Testing: perfect number\n",
      "aliquot_chain_inner([28]) returned the correct output\n",
      "aliquot_chain2(28) returned the correct output\n",
      "\n",
      "Testing: amicable pair\n",
      "aliquot_chain_inner([284,220]) returned the correct output\n",
      "aliquot_chain2(284) returned the correct output\n",
      "\n",
      "Question 4j: 4 out of 4\n"
     ]
    },
    {
     "data": {
      "text/plain": [
       "4"
      ]
     },
     "execution_count": 111,
     "metadata": {},
     "output_type": "execute_result"
    }
   ],
   "source": [
    "# 4 Marks\n",
    "# Do not try to delete this cell\n",
    "# Run this cell for grading\n",
    "_globals = globals()\n",
    "question4j(_globals)"
   ]
  },
  {
   "cell_type": "markdown",
   "metadata": {
    "deletable": false,
    "editable": false,
    "nbgrader": {
     "cell_type": "markdown",
     "checksum": "5e4b39f22c905d803ff2ddf380b486a8",
     "grade": false,
     "grade_id": "cell-1164160e5af0ff5e",
     "locked": true,
     "schema_version": 3,
     "solution": false,
     "task": false
    }
   },
   "source": [
    "(k) Write and test a recursive implementation of your aliquot chain function, <code>aliquot_chain3</code>, which should terminate at the first occurrence of a number that has occurred before. You're likely to need your <code>factor_sum</code> function again.\n",
    "\n",
    "Do this by writing, as with part (f), a single function with an optional keyword-only argument. In this case, it should be called `list_so_far`, and should have default value `[]`.\n",
    "\n",
    "<b>Note</b>: there are at least two ways to extend the length of a Python list: you can use the `append` method, or you can use the addition operator, `+`. In this case, if you use `append`, you may find a bug in your code, that's kind of obscure and hard to explain. You may wish to explore that--or you may prefer to play safe by using `+` instead!"
   ]
  },
  {
   "cell_type": "code",
   "execution_count": 118,
   "metadata": {
    "deletable": false,
    "nbgrader": {
     "cell_type": "code",
     "checksum": "1ab6619425f710c8b6fc27cbb6fe58d6",
     "grade": false,
     "grade_id": "cell-f0ab0704e8399efd",
     "locked": false,
     "schema_version": 3,
     "solution": true,
     "task": false
    }
   },
   "outputs": [],
   "source": [
    "\n",
    "def aliquot_chain3(a,*,list_so_far=None): # better Python practice (to avoid the niche bug)\n",
    "    # YOUR CODE HERE\n",
    "    if not list_so_far:\n",
    "        list_so_far = [a]\n",
    "    b = factor_sum(list_so_far[-1]) - list_so_far[-1]\n",
    "    if b in list_so_far:\n",
    "        list_so_far.append(b)\n",
    "        return list_so_far\n",
    "    list_so_far.append(b)\n",
    "    return aliquot_chain3(a, list_so_far=list_so_far)\n"
   ]
  },
  {
   "cell_type": "code",
   "execution_count": 119,
   "metadata": {
    "deletable": false,
    "editable": false,
    "nbgrader": {
     "cell_type": "code",
     "checksum": "873c4c5f6395ecd0b6fea45e5e8692bf",
     "grade": true,
     "grade_id": "cell-e807deef12f5101f",
     "locked": true,
     "points": 4,
     "schema_version": 3,
     "solution": false,
     "task": false
    }
   },
   "outputs": [
    {
     "name": "stdout",
     "output_type": "stream",
     "text": [
      "Testing: typical case\n",
      "aliquot_chain3(390,list_so_far=[282,294]) returned the correct output\n",
      "aliquot_chain3(282) returned the correct output\n",
      "\n",
      "Testing: edge case\n",
      "aliquot_chain3(0,list_so_far=[0]) returned the correct output\n",
      "aliquot_chain3(0) returned the correct output\n",
      "\n",
      "Testing: perfect number\n",
      "aliquot_chain3(28,list_so_far=[]) returned the correct output\n",
      "aliquot_chain3(28) returned the correct output\n",
      "\n",
      "Testing: amicable pair\n",
      "aliquot_chain3(220,list_so_far=[284]) returned the correct output\n",
      "aliquot_chain3(284) returned the correct output\n",
      "\n",
      "Question 4k: 4 out of 4\n"
     ]
    },
    {
     "data": {
      "text/plain": [
       "4"
      ]
     },
     "execution_count": 119,
     "metadata": {},
     "output_type": "execute_result"
    }
   ],
   "source": [
    "# 4 Marks\n",
    "# Do not try to delete this cell\n",
    "# Run this cell for grading\n",
    "_globals = globals()\n",
    "question4k(_globals)"
   ]
  },
  {
   "cell_type": "markdown",
   "metadata": {
    "deletable": false,
    "editable": false,
    "nbgrader": {
     "cell_type": "markdown",
     "checksum": "2b360f0e36b97db1d63eb4fe77c8f7a3",
     "grade": false,
     "grade_id": "cell-15d0b71249bf041d",
     "locked": true,
     "schema_version": 3,
     "solution": false,
     "task": false
    }
   },
   "source": [
    "## Question 5 (Bonus Question)\n",
    "\n",
    "The prime 41, can be written as the sum of six consecutive primes:\n",
    "$$\n",
    "41 = 2 + 3 + 5 + 7 + 11 + 13\n",
    "$$\n",
    "This is the longest sum of consecutive primes that adds to a prime below one hundred. The longest list of consecutive primes below one thousand that adds to a prime contains 21 terms and its sum is 953 (unlike the above example, it doesn't begin with 2).\n",
    "\n",
    "Write a function which takes an integer `n` and finds the longest chain of consecutive primes whose sum is a prime less than or equal to `n`, and returns (i) the value of this sum and (ii) the length of this chain of primes. For example, if `n = 100`, then the function should return `(41, 6)`.\n",
    "\n",
    "Sometimes, there will be more than one list of maximum length whose sum is prime; in those circumstances, your code should ideally return the largest of these prime sums (though the autograder will be forgiving if it doesn't!)\n",
    "\n",
    "**Hint:** Use the sieving method we developed for finding primes. For maximum execution speed (e.g. to try to pass the final, most challenging time test), see if you can develop a numpy version. It is possible, on Phil's now fairly aged laptop, to sieve so quickly that the last test is passed in under half a second!\n",
    "\n",
    "**Note:** The time limits for the varying sized inputs."
   ]
  },
  {
   "cell_type": "code",
   "execution_count": 146,
   "metadata": {
    "deletable": false,
    "nbgrader": {
     "cell_type": "code",
     "checksum": "7a247dd254df16a501344caf799eaad3",
     "grade": false,
     "grade_id": "cell-746a820ef58a23b4",
     "locked": false,
     "schema_version": 3,
     "solution": true,
     "task": false
    }
   },
   "outputs": [],
   "source": [
    "import numpy as np\n",
    "\n",
    "def get_primes(n):\n",
    "    marker = np.zeros(n+1)\n",
    "    for i in range(2, n+1):\n",
    "        if marker[i] == 0:\n",
    "            for j in range(i*2, n+1, i):\n",
    "                marker[j] = 1\n",
    "    return [i for i in range(2, n+1) if marker[i] == 0]\n",
    "\n",
    "def prime_chain(n): \n",
    "    \"\"\"\n",
    "    For a given n, seeks the longest list of consecutive primes whose sum \n",
    "    is a prime less than or equal to n, returning the length of the list\n",
    "    and the value of the sum\n",
    "    \"\"\"\n",
    "    max_chain_size = 0\n",
    "    primes = get_primes(n)\n",
    "    for chain_size in range(2, n-1):\n",
    "        for i in range(n-chain_size):\n",
    "            chain = primes[i:i+chain_size]\n",
    "            if len(chain) != chain_size:\n",
    "                continue\n",
    "            exceeds_max_prime = False\n",
    "            total = 0\n",
    "            for p in chain:\n",
    "                total += p\n",
    "                if total > primes[-1]:\n",
    "                    exceeds_max_prime = True\n",
    "                    break\n",
    "            if exceeds_max_prime:\n",
    "                break\n",
    "            if total not in primes:\n",
    "                continue\n",
    "            if chain_size < max_chain_size:\n",
    "                continue\n",
    "            if chain_size > max_chain_size:\n",
    "                max_chain_size = chain_size\n",
    "                max_total = 0\n",
    "            if max_chain_size == chain_size and total > max_total:\n",
    "                max_total = total\n",
    "    return max_total, max_chain_size    "
   ]
  },
  {
   "cell_type": "code",
   "execution_count": 147,
   "metadata": {
    "deletable": false,
    "editable": false,
    "nbgrader": {
     "cell_type": "code",
     "checksum": "258697105c50efed5bac08db4a87a271",
     "grade": true,
     "grade_id": "cell-677337a3ba85db4b",
     "locked": true,
     "points": 1,
     "schema_version": 3,
     "solution": false,
     "task": false
    }
   },
   "outputs": [
    {
     "name": "stdout",
     "output_type": "stream",
     "text": [
      "All Tests Passed!!!\n"
     ]
    }
   ],
   "source": [
    "# Run this test cell to check your code\n",
    "# Do not delete this cell\n",
    "# unit test\n",
    "# 1 Mark\n",
    "\n",
    "assert(41 == prime_chain(100)[0])\n",
    "assert(6 == prime_chain(100)[1])\n",
    "print('All Tests Passed!!!')\n"
   ]
  },
  {
   "cell_type": "code",
   "execution_count": 148,
   "metadata": {
    "deletable": false,
    "editable": false,
    "nbgrader": {
     "cell_type": "code",
     "checksum": "835d2ca97e6b1a2e59f2c79c4d89b5f1",
     "grade": true,
     "grade_id": "cell-809ccc45c2022063",
     "locked": true,
     "points": 1,
     "schema_version": 3,
     "solution": false,
     "task": false
    }
   },
   "outputs": [
    {
     "name": "stdout",
     "output_type": "stream",
     "text": [
      "All Tests Passed!!!\n"
     ]
    }
   ],
   "source": [
    "# Run this test cell to check your code\n",
    "# Do not delete this cell\n",
    "# small input\n",
    "# 1 Marks\n",
    "\n",
    "assert(953 == prime_chain(1000)[0])\n",
    "assert(21 == prime_chain(1000)[1])\n",
    "print('All Tests Passed!!!')"
   ]
  },
  {
   "cell_type": "code",
   "execution_count": 149,
   "metadata": {
    "deletable": false,
    "editable": false,
    "nbgrader": {
     "cell_type": "code",
     "checksum": "dcbd8fec876d7a09429248f3e3e1f677",
     "grade": true,
     "grade_id": "cell-18ec81e49e89b4ec",
     "locked": true,
     "points": 1,
     "schema_version": 3,
     "solution": false,
     "task": false
    }
   },
   "outputs": [
    {
     "ename": "AssertionError",
     "evalue": "Program Too Slow!!!",
     "output_type": "error",
     "traceback": [
      "\u001b[0;31m---------------------------------------------------------------------------\u001b[0m",
      "\u001b[0;31mAssertionError\u001b[0m                            Traceback (most recent call last)",
      "Cell \u001b[0;32mIn[149], line 16\u001b[0m\n\u001b[1;32m     14\u001b[0m     \u001b[38;5;28mprint\u001b[39m(\u001b[38;5;124m'\u001b[39m\u001b[38;5;124mAll Tests Passed!!!\u001b[39m\u001b[38;5;124m'\u001b[39m)\n\u001b[1;32m     15\u001b[0m \u001b[38;5;28;01melse\u001b[39;00m:\n\u001b[0;32m---> 16\u001b[0m     \u001b[38;5;28;01mraise\u001b[39;00m \u001b[38;5;167;01mAssertionError\u001b[39;00m(\u001b[38;5;124m'\u001b[39m\u001b[38;5;124mProgram Too Slow!!!\u001b[39m\u001b[38;5;124m'\u001b[39m)\n",
      "\u001b[0;31mAssertionError\u001b[0m: Program Too Slow!!!"
     ]
    }
   ],
   "source": [
    "# Run this test cell to check your code\n",
    "# Do not delete this cell\n",
    "# medium input\n",
    "#--------------------------\n",
    "# 15 second time limit\n",
    "#--------------------------\n",
    "# 1 Mark\n",
    "import time\n",
    "start      = time.time()\n",
    "time_limit = 15\n",
    "\n",
    "assert((9521, 65) == prime_chain(10000))\n",
    "if abs(time.time() - start) < time_limit:\n",
    "    print('All Tests Passed!!!')\n",
    "else:\n",
    "    raise AssertionError('Program Too Slow!!!')\n",
    " "
   ]
  },
  {
   "cell_type": "code",
   "execution_count": null,
   "metadata": {
    "deletable": false,
    "editable": false,
    "nbgrader": {
     "cell_type": "code",
     "checksum": "def3d1cafee1829fec5e3fe87c627810",
     "grade": true,
     "grade_id": "cell-d3223e3d75e6b1b6",
     "locked": true,
     "points": 1,
     "schema_version": 3,
     "solution": false,
     "task": false
    }
   },
   "outputs": [],
   "source": [
    "# Run this test cell to check your code\n",
    "# Do not delete this cell\n",
    "# large inputs\n",
    "#--------------------------\n",
    "# 30 second time limit\n",
    "#--------------------------\n",
    "# 1 Mark\n",
    "\n",
    "start      = time.time()\n",
    "time_limit = 30\n",
    "\n",
    "assert((92951, 183) == prime_chain(100000))\n",
    "if abs(time.time() - start) < time_limit:\n",
    "    print('All Tests Passed!!!')\n",
    "else:\n",
    "    raise AssertionError('Program Too Slow!!!')\n"
   ]
  },
  {
   "cell_type": "code",
   "execution_count": null,
   "metadata": {
    "deletable": false,
    "editable": false,
    "nbgrader": {
     "cell_type": "code",
     "checksum": "35a4d1ef375aabf6ebf577ebd9c434a6",
     "grade": true,
     "grade_id": "cell-5257d126ea8742c1",
     "locked": true,
     "points": 1,
     "schema_version": 3,
     "solution": false,
     "task": false
    }
   },
   "outputs": [],
   "source": [
    "# Run this test cell to check your code\n",
    "# Do not delete this cell\n",
    "# large inputs\n",
    "#--------------------------\n",
    "# 60 second time limit\n",
    "#--------------------------\n",
    "# 1 Mark\n",
    "\n",
    "start      = time.time()\n",
    "time_limit = 60\n",
    "\n",
    "assert((997651, 543) == prime_chain(1000000))\n",
    "if abs(time.time() - start) < time_limit:\n",
    "    print('All Tests Passed!!!')\n",
    "else:\n",
    "    raise AssertionError('Program Too Slow!!!')\n"
   ]
  },
  {
   "cell_type": "code",
   "execution_count": null,
   "metadata": {
    "deletable": false,
    "editable": false,
    "nbgrader": {
     "cell_type": "code",
     "checksum": "fa4587e1b0b673bfcea4923f80ac79a0",
     "grade": true,
     "grade_id": "cell-41ef14b1d6c0a03e",
     "locked": true,
     "points": 1,
     "schema_version": 3,
     "solution": false,
     "task": false
    }
   },
   "outputs": [],
   "source": [
    "# Run this test cell to check your code\n",
    "# Do not delete this cell\n",
    "#--------------------------\n",
    "# 60 second time limit\n",
    "#--------------------------\n",
    "# huge inputs\n",
    "# 2 Marks\n",
    "\n",
    "start      = time.time()\n",
    "time_limit = 60\n",
    "pc = prime_chain(10000000) \n",
    "assert((9951191, 1587) == pc or (9964597, 1587) == pc)\n",
    "if abs(time.time() - start) < time_limit:\n",
    "    print('All Tests Passed!!!')\n",
    "else:\n",
    "    raise AssertionError('Program Too Slow!!!')\n"
   ]
  },
  {
   "cell_type": "code",
   "execution_count": null,
   "metadata": {},
   "outputs": [],
   "source": []
  }
 ],
 "metadata": {
  "kernelspec": {
   "display_name": "Python 3 (ipykernel)",
   "language": "python",
   "name": "python3"
  },
  "language_info": {
   "codemirror_mode": {
    "name": "ipython",
    "version": 3
   },
   "file_extension": ".py",
   "mimetype": "text/x-python",
   "name": "python",
   "nbconvert_exporter": "python",
   "pygments_lexer": "ipython3",
   "version": "3.12.7"
  }
 },
 "nbformat": 4,
 "nbformat_minor": 4
}
